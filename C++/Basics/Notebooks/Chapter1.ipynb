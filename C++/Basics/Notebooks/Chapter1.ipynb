{
 "cells": [
  {
   "cell_type": "markdown",
   "id": "1a4b80bd-d12c-4a80-9018-f1e4acdf3610",
   "metadata": {},
   "source": [
    "# <span style=\"border-bottom: 3px solid black; font-size: 40px;\">C++ Basics</span>\n",
    "\n",
    "# <span style=\"border-bottom: 2px solid black; font-size: 32px;\">Chapter 1</span>"
   ]
  },
  {
   "cell_type": "markdown",
   "id": "d91a13e1-3b6f-4461-936f-e024cdaf05c8",
   "metadata": {},
   "source": [
    "# <span style=\"border-bottom: 1px solid black; font-size: 22px;\">1.1 Statements and the structure of a program</span>\n",
    "\n",
    "- A computer program is a sequence of instructions that tell the computer what to do. A statement is a type of instruction that causes the program to perform some action.\n",
    "- Most (but not all) statements in C++ end in a semicolon. -> If you see a line that ends in a semicolon, it’s probably a statement.\n",
    "- In C++, statements are typically grouped into units called functions. A function is a collection of statements that get executed sequentially (in order, from top to bottom)."
   ]
  },
  {
   "cell_type": "markdown",
   "id": "4a42da8f-6eca-4a83-8435-9c62b2ec2114",
   "metadata": {},
   "source": [
    "<div style=\"border: 1px solid #dc3545; padding: 10px; background-color: #f8d7da; border-radius: 5px; font-size: 20px;\">\n",
    "    <strong>Rule:</strong> Every C++ program must have a special function named main.\n",
    "</div>"
   ]
  },
  {
   "cell_type": "code",
   "execution_count": null,
   "id": "fc534eb0-6b62-42cc-8a76-af33df3ffa56",
   "metadata": {},
   "outputs": [],
   "source": [
    "int main() // This is the main function header\n",
    "{\n",
    "    // This is the main function body\n",
    "}"
   ]
  },
  {
   "cell_type": "markdown",
   "id": "a28a286a-3446-4ff7-ae41-72a98256b30d",
   "metadata": {},
   "source": [
    "<hr style=\"border: 1px solid black;\">"
   ]
  },
  {
   "cell_type": "markdown",
   "id": "cb7db339-a16f-4ce8-93d0-4ac43d8c3947",
   "metadata": {},
   "source": [
    "# <span style=\"border-bottom: 1px solid black; font-size: 22px;\">1.2 Comments</span>\n",
    "\n",
    "- ##### A comment is a programmer-readable note that is inserted directly into the source code of the program. Comments are ignored by the compiler and are for the programmer’s use only.\n",
    "- ##### The // symbol begins a C++ single-line comment, which tells the compiler to ignore everything from the // symbol to the end of the line\n",
    "\n",
    "Examples:"
   ]
  },
  {
   "cell_type": "markdown",
   "id": "ec3cb264-ad09-4049-8f97-148c85f3a587",
   "metadata": {},
   "source": [
    "##### \"Bad\":"
   ]
  },
  {
   "cell_type": "code",
   "execution_count": null,
   "id": "04aa9aba-aba8-4fb5-9af6-22debc652d68",
   "metadata": {},
   "outputs": [],
   "source": [
    "#include <iostream>\n",
    "\n",
    "std::cout << \"Hello world!\\n\"; // std::cout lives in the iostream library\n",
    "std::cout << \"It is very nice to meet you!\\n\"; // these comments make the code hard to read\n",
    "std::cout << \"Yeah!\\n\"; // especially when lines are different lengths"
   ]
  },
  {
   "cell_type": "markdown",
   "id": "99c6eb15-3c08-4bea-a1b0-9f4f1952d41d",
   "metadata": {},
   "source": [
    "##### \"Better\":"
   ]
  },
  {
   "cell_type": "code",
   "execution_count": null,
   "id": "36a23a59-9992-40ba-8152-32c62279a8e7",
   "metadata": {},
   "outputs": [],
   "source": [
    "#include <iostream>\n",
    "\n",
    "std::cout << \"Hello world!\\n\";                 // std::cout lives in the iostream library\n",
    "std::cout << \"It is very nice to meet you!\\n\"; // this is much easier to read\n",
    "std::cout << \"Yeah!\\n\";                        // don't you think so?"
   ]
  },
  {
   "cell_type": "markdown",
   "id": "513b8d3f-36a5-4d79-93ff-f2ceeefa2d95",
   "metadata": {},
   "source": [
    "##### \"Alternative\":"
   ]
  },
  {
   "cell_type": "code",
   "execution_count": null,
   "id": "cd5dd849-b3b8-40ed-beaa-2d492563f6fd",
   "metadata": {},
   "outputs": [],
   "source": [
    "#include <iostream>\n",
    "\n",
    "// std::cout lives in the iostream library\n",
    "std::cout << \"Hello world!\\n\";\n",
    "\n",
    "// this is much easier to read\n",
    "std::cout << \"It is very nice to meet you!\\n\";\n",
    "\n",
    "// don't you think so?\n",
    "std::cout << \"Yeah!\\n\";"
   ]
  },
  {
   "cell_type": "markdown",
   "id": "5d313794-fd9a-4a85-a58d-3244a77c217e",
   "metadata": {},
   "source": [
    "#### The /* and */ pair of symbols denotes a C-style multi-line comment. Everything in between the symbols is ignored.\n",
    "\n",
    "Examples:"
   ]
  },
  {
   "cell_type": "markdown",
   "id": "d1f9c0da-83c3-4088-82a1-e72528fca1ab",
   "metadata": {},
   "source": [
    "##### \"Bad\":"
   ]
  },
  {
   "cell_type": "code",
   "execution_count": null,
   "id": "9d4d8df9-b73e-4121-a60c-036ff22fd2ea",
   "metadata": {},
   "outputs": [],
   "source": [
    "/* This is a multi-line comment.\n",
    "   This line will be ignored.\n",
    "   So will this one. */"
   ]
  },
  {
   "cell_type": "markdown",
   "id": "541e364a-8605-4170-b8f8-cd40c39f50ba",
   "metadata": {},
   "source": [
    "##### \"Better\":"
   ]
  },
  {
   "cell_type": "code",
   "execution_count": null,
   "id": "bdfd0aab-fcb7-41b6-ab33-632a4ced34f7",
   "metadata": {},
   "outputs": [],
   "source": [
    "/* This is a multi-line comment.\n",
    " * the matching asterisks to the left\n",
    " * can make this easier to read\n",
    " */"
   ]
  },
  {
   "cell_type": "markdown",
   "id": "1aadb52b-d502-45f9-bf62-6d350ae0a139",
   "metadata": {},
   "source": [
    "<div style=\"border: 1px solid #ffc107; padding: 10px; background-color: #fff3cd; border-radius: 5px; font-size: 20px;\">\n",
    "    <strong>Warning:</strong> Don’t use multi-line comments inside other multi-line comments. Wrapping single-line comments inside a multi-line comment is okay.\n",
    "</div>"
   ]
  },
  {
   "cell_type": "markdown",
   "id": "34179173-568d-4118-b175-f3b82fed4bb2",
   "metadata": {},
   "source": [
    "#### Proper use of comments:\n",
    "\n",
    "##### 1. For a given library, program, or function, comments are best used to describe what the library, program, or function, does."
   ]
  },
  {
   "cell_type": "markdown",
   "id": "5b54c888-58a8-4373-81d4-3b972f5df976",
   "metadata": {},
   "source": [
    "Example:"
   ]
  },
  {
   "cell_type": "code",
   "execution_count": null,
   "id": "5dcb0641-e8e9-4fa3-b904-8c6cc2e2430a",
   "metadata": {},
   "outputs": [],
   "source": [
    "// This program calculates the student's final grade based on their test and homework scores."
   ]
  },
  {
   "cell_type": "markdown",
   "id": "f7cc5676-bbbb-43dc-b953-68ddda5bc6f5",
   "metadata": {},
   "source": [
    "##### 2. Within a library, program, or function described above, comments can be used to describe how the code is going to accomplish its goal"
   ]
  },
  {
   "cell_type": "markdown",
   "id": "d416f492-24f9-4092-9adf-28eac2613814",
   "metadata": {},
   "source": [
    "Example:"
   ]
  },
  {
   "cell_type": "code",
   "execution_count": null,
   "id": "4036033c-09c2-4831-95be-75e02e2c35a4",
   "metadata": {},
   "outputs": [],
   "source": [
    "/* To calculate the final grade, we sum all the weighted midterm and homework scores\n",
    " * and then divide by the number of scores to assign a percentage, which is\n",
    " * used to calculate a letter grade.\n",
    " */"
   ]
  },
  {
   "cell_type": "markdown",
   "id": "e07b03c0-aefa-4876-a5ba-d03d1b85518c",
   "metadata": {},
   "source": [
    "##### 3. at the statement level, comments should be used to describe why the code is doing something. A bad statement comment explains what the code is doing. If you ever write code that is so complex that needs a comment to explain what a statement is doing, you probably need to rewrite your statement, not comment it."
   ]
  },
  {
   "cell_type": "markdown",
   "id": "7606d107-a588-4242-97a8-d5e64196a641",
   "metadata": {},
   "source": [
    "Example:"
   ]
  },
  {
   "cell_type": "markdown",
   "id": "128ec256-018a-4193-aaf8-a87b1b8cc3a6",
   "metadata": {},
   "source": [
    "##### \"Bad\":"
   ]
  },
  {
   "cell_type": "code",
   "execution_count": null,
   "id": "c8dc162f-063e-43cf-b000-3fea9c22e0cb",
   "metadata": {},
   "outputs": [],
   "source": [
    "// Set sight range to 0\n",
    "int sight = 0;"
   ]
  },
  {
   "cell_type": "markdown",
   "id": "1930d864-e885-489b-a333-f476d9951e37",
   "metadata": {},
   "source": [
    "##### \"Better\":"
   ]
  },
  {
   "cell_type": "code",
   "execution_count": null,
   "id": "d5094352-0783-4547-a23d-a0be15cfa072",
   "metadata": {},
   "outputs": [],
   "source": [
    "// The player just drank a potion of blindness and can not see anything\n",
    "int sight = 0;"
   ]
  },
  {
   "cell_type": "markdown",
   "id": "d790f78b-c5b3-4444-b305-a0d810dec33a",
   "metadata": {},
   "source": [
    "<div style=\"border: 1px solid #28a745; padding: 10px; background-color: #d4edda; border-radius: 5px; font-size: 20px;\">\n",
    "    <strong>Best Practice:</strong> Comment your code liberally, and write your comments as if speaking to someone who has no idea what the code does. Don’t assume you’ll remember why you made specific choices.\n",
    "</div>"
   ]
  },
  {
   "cell_type": "markdown",
   "id": "17d98afa-9f24-4632-ab72-a69b50ad4589",
   "metadata": {},
   "source": [
    "<hr style=\"border: 1px solid black;\">"
   ]
  },
  {
   "cell_type": "markdown",
   "id": "403245ab-b36a-49bf-a0ed-14c02fd8aea8",
   "metadata": {},
   "source": [
    "# <span style=\"border-bottom: 1px solid black; font-size: 22px;\">1.3 Introduction to objects and variables</span>\n",
    "\n",
    "<br>\n",
    "\n",
    "- #### Data and Values:\n",
    "\n",
    "<div style=\"border: 1px solid #007bff; padding: 10px; background-color: #add8e6; border-radius: 5px; font-size: 20px;\">\n",
    "    <strong>Key Insight:</strong> Programs are collections of instructions that manipulate data to produce a desired result. <br> <br> Computer programs (both in source code format and compiled) are technically data too, since they can be moved, processed, and stored. However, in the context of a computer program, we typically use the term “code” to mean the program itself, and “data” to mean the information that the program works with to produce a result.\n",
    "</div>"
   ]
  },
  {
   "cell_type": "markdown",
   "id": "6e1133ff-f70b-4d9a-8eed-550914a53f8e",
   "metadata": {},
   "source": [
    "<hr style=\"border: 1px solid;\">"
   ]
  },
  {
   "cell_type": "markdown",
   "id": "53723e8e-0598-4fb9-abfe-7ae63906b2f9",
   "metadata": {},
   "source": [
    "- #### Random Access Memeory\n",
    "\n",
    "The main memory in a computer is called Random Access Memory (often called RAM for short). When we run a program, the operating system loads the program into RAM. Any data that is hardcoded into the program itself (e.g. text such as “Hello, world!”) is loaded at this point.\n",
    "<br>\n",
    "\n",
    "RAM can be thought of as a series of numbered boxes that can be used to store data while the program is running."
   ]
  },
  {
   "cell_type": "markdown",
   "id": "41d05922-35ef-45a6-8226-2608b88ff3a8",
   "metadata": {},
   "source": [
    "<hr style=\"border: 1px solid;\">"
   ]
  },
  {
   "cell_type": "markdown",
   "id": "ad182bef-f4ae-4698-a377-d4db55ca1fad",
   "metadata": {},
   "source": [
    "- #### Objects and Variables:\n",
    "\n",
    "In C++, direct memory access is discouraged. Instead, we access memory indirectly through an object. An object represents a region of storage (typically RAM or a CPU register) that can hold a value. Objects also have associated properties (that we’ll cover in future lessons).\n",
    "\n",
    "<div style=\"border: 1px solid #007bff; padding: 10px; background-color: #add8e6; border-radius: 5px; font-size: 20px;\">\n",
    "    <strong>Key Insight:</strong> An object is used to store a value in memory. A variable is an object that has a name (identifier). <br> <br> Naming our objects lets us refer to those objects again later in the program.\n",
    "</div>"
   ]
  },
  {
   "cell_type": "markdown",
   "id": "3f78eef5-3719-4b05-8660-077fdf97ee57",
   "metadata": {},
   "source": [
    "<hr style=\"border: 1px solid;\">"
   ]
  },
  {
   "cell_type": "markdown",
   "id": "6457fdc7-30b3-44f6-bb59-2e9d87e0b068",
   "metadata": {},
   "source": [
    "- #### Variable Definition:\n",
    "\n",
    "In order to use a variable in our program, we need to tell the compiler that we want one. The most common way to do this is by use of a special kind of declaration statement called a definition (we’ll clarify the difference between a declaration and definition later, in lesson 2.7 -- Forward declarations and definitions).\n",
    "\n",
    "<div style=\"border: 1px solid #007bff; padding: 10px; background-color: #add8e6; border-radius: 5px; font-size: 20px;\">\n",
    "    <strong>Key Insight:</strong> A definition statement can be used to tell the compiler that we want to use a variable in our program.\n",
    "</div>\n",
    "\n",
    "<br> Example:"
   ]
  },
  {
   "cell_type": "code",
   "execution_count": null,
   "id": "0a843709-78ab-4418-a0f9-6b4f3b1e8877",
   "metadata": {},
   "outputs": [],
   "source": [
    "int x; // define a variable named x (of type int)"
   ]
  },
  {
   "cell_type": "markdown",
   "id": "33597730-366d-4c78-8b4b-662b937a2396",
   "metadata": {},
   "source": [
    "- #### Variable creation:\n",
    "\n",
    "At runtime (when the program is loaded into memory and run), each object is given an actual storage location (such as RAM, or a CPU register) that it can use to store values. The process of reserving storage for an object’s use is called allocation. Once allocation has occurred, the object has been created and can be used.\n",
    "\n",
    "<div style=\"border: 1px solid #007bff; padding: 10px; background-color: #add8e6; border-radius: 5px; font-size: 20px;\">\n",
    "    <strong>Key Insight:</strong> An object is “created” once actual storage has been reserved for the object’s use.\n",
    "</div>"
   ]
  },
  {
   "cell_type": "markdown",
   "id": "3070717e-bb3b-441b-b174-96d8f8c587c5",
   "metadata": {},
   "source": [
    "<hr style=\"border: 1px solid;\">"
   ]
  },
  {
   "cell_type": "markdown",
   "id": "c6441e87-2199-4a9e-ab3e-2ff8cfc50b91",
   "metadata": {},
   "source": [
    "- #### Data Types:\n",
    "\n",
    "A data type (more commonly just called a type) determines what kind of value (e.g. a number, a letter, text, etc…) an object will store."
   ]
  },
  {
   "cell_type": "markdown",
   "id": "02116ad9-07e2-45b8-99f4-14f1c936c53a",
   "metadata": {},
   "source": [
    "<div style=\"border: 1px solid #007bff; padding: 10px; background-color: #add8e6; border-radius: 5px; font-size: 20px;\">\n",
    "    <strong>Key Insight:</strong> The data type of an object must be known at compile-time (so the compiler knows how much memory that object requires).\n",
    "</div>\n",
    "\n",
    "<br>\n",
    "\n",
    "Examples:"
   ]
  },
  {
   "cell_type": "code",
   "execution_count": null,
   "id": "b8950ffc-bffb-45dc-a3f8-637f86e390b4",
   "metadata": {},
   "outputs": [],
   "source": [
    "double width; // define a variable named width, of type double\n",
    "\n",
    "// Defining two variables Like this:\n",
    "int a;\n",
    "int b;"
   ]
  },
  {
   "cell_type": "code",
   "execution_count": null,
   "id": "b4e6c874-191d-4204-83aa-88feb73f2e3e",
   "metadata": {},
   "outputs": [],
   "source": [
    "// Is the same as this:\n",
    "int a, b;"
   ]
  },
  {
   "cell_type": "code",
   "execution_count": null,
   "id": "f2a3c036-3642-4b23-b50a-7db0cb91f9a0",
   "metadata": {},
   "outputs": [],
   "source": [
    "// Defining two variables like the following throws a compiler error:\n",
    "int a, int b;"
   ]
  },
  {
   "cell_type": "code",
   "execution_count": null,
   "id": "17d08724-2094-424a-bc2e-da470c4c474c",
   "metadata": {},
   "outputs": [],
   "source": [
    "int a; double b; // correct (but not recommended)"
   ]
  },
  {
   "cell_type": "code",
   "execution_count": null,
   "id": "699c12b5-dd3a-4242-ae27-5a6714564ecf",
   "metadata": {},
   "outputs": [],
   "source": [
    "// correct and recommended (easier to read)\n",
    "int a;\n",
    "double b;"
   ]
  },
  {
   "cell_type": "markdown",
   "id": "69b60d38-e46e-440a-b744-f208aaa5fc8d",
   "metadata": {},
   "source": [
    "<div style=\"border: 1px solid #28a745; padding: 10px; background-color: #d4edda; border-radius: 5px; font-size: 20px;\">\n",
    "    <strong>Best Practice:</strong> <br> Although the language allows you to do so, avoid defining multiple variables of the same type in a single statement. Instead, define each variable in a separate statement on its own line (and then use a single-line comment to document what it is used for).\n",
    "</div>"
   ]
  },
  {
   "cell_type": "markdown",
   "id": "c8512427-671c-4414-b54b-57dff51a007e",
   "metadata": {},
   "source": [
    "<hr style=\"border: 1px solid black;\">"
   ]
  },
  {
   "cell_type": "markdown",
   "id": "3a3cbf7c-a0f6-44ac-800d-14786ef8c669",
   "metadata": {},
   "source": [
    "# <span style=\"border-bottom: 1px solid black; font-size: 22px;\">1.4 Variable Assignment and Initialization</span>"
   ]
  },
  {
   "cell_type": "markdown",
   "id": "3a535ed1-aabb-4945-9fd8-04320097603b",
   "metadata": {},
   "source": [
    "- #### Variable Assignment\n",
    "\n",
    "After a variable has been defined, you can give it a value (in a separate statement) using the = operator. This process is called assignment, and the = operator is called the assignment operator.\n",
    "\n",
    "By default, assignment copies the value on the right-hand side of the = operator to the variable on the left-hand side of the operator. This is called copy-assignment."
   ]
  },
  {
   "cell_type": "code",
   "execution_count": 1,
   "id": "6883fa34-d8a1-4f9d-a087-e4af8c0e2069",
   "metadata": {},
   "outputs": [
    {
     "name": "stdout",
     "output_type": "stream",
     "text": [
      "5\n",
      "7"
     ]
    }
   ],
   "source": [
    "#include <iostream>\n",
    "\n",
    "int width; // define an integer variable named width\n",
    "width = 5; // copy assignment of value 5 into variable width\n",
    "\n",
    "           // --> variable width now has value 5\n",
    "\n",
    "std::cout << width <<'\\n';\n",
    "\n",
    "width = 7; // change value stored in variable width to 7\n",
    "\n",
    "std::cout << width;"
   ]
  },
  {
   "cell_type": "markdown",
   "id": "444e4811-7337-4026-a7cd-36736c933ebb",
   "metadata": {},
   "source": [
    "<hr style=\"border: 1px solid;\">"
   ]
  },
  {
   "cell_type": "markdown",
   "id": "06d13e6f-81ff-46c8-9bf1-e5e1b2f85de5",
   "metadata": {},
   "source": [
    "- #### Variable Initialization\n",
    "\n",
    "One downside of assignment is that assigning a value to a just-defined object requires two statements: one to define the variable, and another to assign the value.\n",
    "\n",
    "These two steps can be combined. When an object is defined, you can optionally provide an initial value for the object. The process of specifying an initial value for an object is called initialization, and the syntax used to initialize an object is called an initializer. Informally, the initial value is often called an “initializer” as well.\n",
    "\n",
    "For example, the following statement both defines a variable named width (of type int) and initializes it with the value 5:"
   ]
  },
  {
   "cell_type": "code",
   "execution_count": 2,
   "id": "3373df11-7876-4926-848e-abd342fe6375",
   "metadata": {},
   "outputs": [
    {
     "name": "stdout",
     "output_type": "stream",
     "text": [
      "5"
     ]
    }
   ],
   "source": [
    "#include <iostream>\n",
    "\n",
    "int width {5}; // define variable width and initialize with initial value 5\n",
    "std::cout << width;"
   ]
  },
  {
   "cell_type": "markdown",
   "id": "e814f762-e3e9-43c2-b896-9c8aff6b3cb2",
   "metadata": {},
   "source": [
    "<hr style=\"border: 1px solid;\">"
   ]
  },
  {
   "cell_type": "markdown",
   "id": "49989a77-608e-4cbb-836d-be6caf8cd1ad",
   "metadata": {},
   "source": [
    "- #### Different Forms of Initialization\n",
    "\n",
    "There are 5 common forms of initialization in C++:"
   ]
  },
  {
   "cell_type": "code",
   "execution_count": null,
   "id": "58610a76-6261-4090-9a65-23b72db808ef",
   "metadata": {},
   "outputs": [],
   "source": [
    "int a;         // default-initialization (no initializer)\n",
    "\n",
    "// Traditional initialization forms:\n",
    "int b = 5;     // copy-initialization (initial value after equals sign)\n",
    "int c ( 6 );   // direct-initialization (initial value in parenthesis)\n",
    "\n",
    "// Modern initialization forms (preferred):\n",
    "int d { 7 };   // direct-list-initialization (initial value in braces)\n",
    "int e {};      // value-initialization (empty braces)"
   ]
  },
  {
   "cell_type": "markdown",
   "id": "518582c5-bc1c-49c5-bd3a-48012cd5a743",
   "metadata": {},
   "source": [
    "##### List-initialization disallows narrowing conversions\n",
    "\n",
    "One of the primary benefits of list-initialization for new C++ programmers is that “narrowing conversions” are disallowed. This means that if you try to list-initialize a variable using a value that the variable can not safely hold, the compiler is required to produce a diagnostic (compilation error or warning) to notify you.\n",
    "\n",
    "For example:"
   ]
  },
  {
   "cell_type": "code",
   "execution_count": 3,
   "id": "28c6f4be-c5b3-413f-b45a-bba813352a08",
   "metadata": {
    "scrolled": true
   },
   "outputs": [
    {
     "name": "stderr",
     "output_type": "stream",
     "text": [
      "\u001b[1minput_line_11:2:11: \u001b[0m\u001b[0;1;31merror: \u001b[0m\u001b[1mtype 'double' cannot be narrowed to 'int' in initializer list [-Wc++11-narrowing]\u001b[0m\n",
      " int w1 { 4.5 }; // compile error: list-init does not allow narrowing conversion\n",
      "\u001b[0;1;32m          ^~~\n",
      "\u001b[0m\u001b[1minput_line_11:2:11: \u001b[0m\u001b[0;1;30mnote: \u001b[0minsert an explicit cast to silence this issue\u001b[0m\n",
      " int w1 { 4.5 }; // compile error: list-init does not allow narrowing conversion\n",
      "\u001b[0;1;32m          ^~~\n",
      "\u001b[0m\u001b[0;32m          static_cast<int>( )\n",
      "\u001b[0m\u001b[1minput_line_11:2:11: \u001b[0m\u001b[0;1;35mwarning: \u001b[0m\u001b[1mimplicit conversion from 'double' to 'int' changes value from 4.5 to 4 [-Wliteral-conversion]\u001b[0m\n",
      " int w1 { 4.5 }; // compile error: list-init does not allow narrowing conversion\n",
      "\u001b[0;1;32m        ~ ^~~\n",
      "\u001b[0m"
     ]
    },
    {
     "ename": "Interpreter Error",
     "evalue": "",
     "output_type": "error",
     "traceback": [
      "Interpreter Error: "
     ]
    }
   ],
   "source": [
    "int w1 { 4.5 }; // compile error: list-init does not allow narrowing conversion"
   ]
  },
  {
   "cell_type": "code",
   "execution_count": 4,
   "id": "10541913-5858-4a2e-9c89-4051ec0a6f4b",
   "metadata": {
    "scrolled": true
   },
   "outputs": [
    {
     "name": "stderr",
     "output_type": "stream",
     "text": [
      "\u001b[1minput_line_13:2:11: \u001b[0m\u001b[0;1;35mwarning: \u001b[0m\u001b[1mimplicit conversion from 'double' to 'int' changes value from 4.5 to 4 [-Wliteral-conversion]\u001b[0m\n",
      " int w2 = 4.5;   // compiles: w2 copy-initialized to value 4\n",
      "\u001b[0;1;32m     ~~   ^~~\n",
      "\u001b[0m\u001b[1minput_line_13:4:9: \u001b[0m\u001b[0;1;35mwarning: \u001b[0m\u001b[1mimplicit conversion from 'double' to 'int' changes value from 4.5 to 4 [-Wliteral-conversion]\u001b[0m\n",
      "int w3 (4.5);   // compiles: w3 direct-initialized to value 4\n",
      "\u001b[0;1;32m    ~~  ^~~\n",
      "\u001b[0m"
     ]
    },
    {
     "name": "stdout",
     "output_type": "stream",
     "text": [
      "4\n",
      "4"
     ]
    }
   ],
   "source": [
    "#include <iostream>\n",
    "\n",
    "int w2 = 4.5;   // compiles: w2 copy-initialized to value 4\n",
    "std::cout << w2 << '\\n';\n",
    "\n",
    "int w3 (4.5);   // compiles: w3 direct-initialized to value 4\n",
    "std::cout << w3;"
   ]
  },
  {
   "cell_type": "code",
   "execution_count": 5,
   "id": "01a5b45d-536e-4b83-910a-762f9dde56d9",
   "metadata": {},
   "outputs": [
    {
     "name": "stderr",
     "output_type": "stream",
     "text": [
      "\u001b[1minput_line_15:3:6: \u001b[0m\u001b[0;1;35mwarning: \u001b[0m\u001b[1mimplicit conversion from 'double' to 'int' changes value from 4.5 to 4 [-Wliteral-conversion]\u001b[0m\n",
      "w1 = 4.5; // compiles: copy-assignment allows narrowing conversion of 4.5 to 4\n",
      "\u001b[0;1;32m   ~ ^~~\n",
      "\u001b[0m"
     ]
    },
    {
     "name": "stdout",
     "output_type": "stream",
     "text": [
      "4"
     ]
    }
   ],
   "source": [
    "#include <iostream>\n",
    "\n",
    "int w1 {};\n",
    "w1 = 4.5; // compiles: copy-assignment allows narrowing conversion of 4.5 to 4\n",
    "\n",
    "std::cout << w1;"
   ]
  },
  {
   "cell_type": "markdown",
   "id": "da03be5f-53df-42d6-ab69-08dad241ba16",
   "metadata": {},
   "source": [
    "<div style=\"border: 1px solid #28a745; padding: 10px; background-color: #d4edda; border-radius: 5px; font-size: 20px;\">\n",
    "    <strong>Best Practice:</strong> <br> 1. Initialize variables upon creation. <br> 2. Prefer direct-list-initialization or value-initialization to initialize variables <br> --> List-initialization disallows narrowing conversions\n",
    "</div>"
   ]
  },
  {
   "cell_type": "markdown",
   "id": "fdf86d1f-ddb5-43bf-863f-5ae06a1b8802",
   "metadata": {},
   "source": [
    "<hr style=\"border: 1px solid black;\">"
   ]
  },
  {
   "cell_type": "markdown",
   "id": "80fc57d5-9fee-486d-afd8-83a89100580b",
   "metadata": {},
   "source": [
    "# <span style=\"border-bottom: 1px solid black; font-size: 22px;\">1.5 Introduction to iostream: cout, cin and endl</span>"
   ]
  },
  {
   "cell_type": "markdown",
   "id": "7b664d39-efa3-4862-bc4f-e33f53410d1a",
   "metadata": {},
   "source": [
    "- #### The input/output library\n",
    "\n",
    "The input/output library (io library) is part of the C++ standard library that deals with basic input and output. We’ll use the functionality in this library to get input from the keyboard and output data to the console. The io part of iostream stands for input/output.\n",
    "\n",
    "To use the functionality defined within the iostream library, we need to include the iostream header at the top of any code file that uses the content defined in iostream, like so:"
   ]
  },
  {
   "cell_type": "code",
   "execution_count": null,
   "id": "2283fa3e-96ab-43a6-86df-295026bc0e11",
   "metadata": {},
   "outputs": [],
   "source": [
    "#include <iostream>\n",
    "\n",
    "// rest of code that uses iostream functionality here"
   ]
  },
  {
   "cell_type": "markdown",
   "id": "c6cbd5b6-3a08-4f7f-a9f7-b78472707ddf",
   "metadata": {},
   "source": [
    "- #### std::cout\n",
    "\n",
    "The iostream library contains a few predefined variables for us to use. One of the most useful is std::cout, which allows us to send data to the console to be printed as text. cout stands for “character output”."
   ]
  },
  {
   "cell_type": "code",
   "execution_count": 6,
   "id": "a3f9938c-208d-4076-901f-db85eb73ff79",
   "metadata": {},
   "outputs": [
    {
     "name": "stdout",
     "output_type": "stream",
     "text": [
      "x is equal to: 5"
     ]
    }
   ],
   "source": [
    "#include <iostream> // for std::cout\n",
    "\n",
    "int x{ 5 };\n",
    "std::cout << \"x is equal to: \" << x;"
   ]
  },
  {
   "cell_type": "markdown",
   "id": "5ac26a52-4f24-4c71-a6b3-a078e00e859f",
   "metadata": {},
   "source": [
    "<hr style=\"border: 1px solid;\">"
   ]
  },
  {
   "cell_type": "markdown",
   "id": "18d7fb5e-bab6-44db-92ae-4435025b0d52",
   "metadata": {},
   "source": [
    "- #### std::endl\n",
    "\n",
    "One way to output a newline is to output std::endl"
   ]
  },
  {
   "cell_type": "code",
   "execution_count": 7,
   "id": "ea5497db-e020-4066-9f95-9f8c63a7cf61",
   "metadata": {},
   "outputs": [
    {
     "name": "stdout",
     "output_type": "stream",
     "text": [
      "Hi!\n",
      "My name is Valentin.\n",
      "What´s your name?\n"
     ]
    }
   ],
   "source": [
    "std::cout << \"Hi!\" << std::endl; // std::endl will cause the cursor to move to the next line\n",
    "std::cout << \"My name is Valentin.\" << std::endl << \"What´s your name?\" << std::endl;"
   ]
  },
  {
   "cell_type": "markdown",
   "id": "f150346e-98c5-4606-a3af-4657d8daadf1",
   "metadata": {},
   "source": [
    "\n",
    "##### std::cout is buffered!\n",
    "\n",
    "The opposite of buffered output is unbuffered output. With unbuffered output, each individual output request is sent directly to the output device.\n",
    "\n",
    "Writing data to a buffer is typically fast, whereas transferring a batch of data to an output device is comparatively slow. Buffering can significantly increase performance by batching multiple output requests together to minimize the number of times output has to be sent to the output device.\n",
    "\n",
    "##### std::endl vs \\n:\n",
    "\n",
    "Using std::endl is often inefficient, as it actually does two jobs: it outputs a newline (moving the cursor to the next line of the console), and it flushes the buffer (which is slow). If we output multiple lines of text ending with std::endl, we will get multiple flushes, which is slow and probably unnecessary.\n",
    "\n",
    "<div style=\"border: 1px solid #28a745; padding: 10px; background-color: #d4edda; border-radius: 5px; font-size: 20px;\">\n",
    "    <strong>Best Practice:</strong> <br> 1. Output a newline whenever a line of output is complete. <br> 2. Prefer \\n over std::endl when outputting multiple lines of text to the console.\n",
    "</div>"
   ]
  },
  {
   "cell_type": "markdown",
   "id": "f7d7a3e3-6559-4f02-b485-9fa6eda058b1",
   "metadata": {},
   "source": [
    "<hr style=\"border: 1px solid;\">"
   ]
  },
  {
   "cell_type": "markdown",
   "id": "1f35d343-27ef-4a0a-9469-057f3c79ade3",
   "metadata": {},
   "source": [
    "- #### std::cin\n",
    "\n",
    "std::cin is another predefined variable in the iostream library. Whereas std::cout prints data to the console (using the insertion operator << to provide the data), std::cin (which stands for “character input”) reads input from keyboard.\n",
    "\n",
    "We typically use the extraction operator >> to put the input data in a variable"
   ]
  },
  {
   "cell_type": "code",
   "execution_count": 8,
   "id": "da53911a-affc-44b3-93b4-02ff63d81769",
   "metadata": {},
   "outputs": [
    {
     "name": "stdout",
     "output_type": "stream",
     "text": [
      "Enter a number: "
     ]
    },
    {
     "name": "stdin",
     "output_type": "stream",
     "text": [
      " 42\n"
     ]
    },
    {
     "name": "stdout",
     "output_type": "stream",
     "text": [
      "You entered 42\n"
     ]
    }
   ],
   "source": [
    "    std::cout << \"Enter a number: \"; // ask user for a number\n",
    "\n",
    "    int x{};       // define variable x to hold user input (and value-initialize it)\n",
    "    std::cin >> x; // get number from keyboard and store it in variable x\n",
    "\n",
    "    std::cout << \"You entered \" << x << std::endl;"
   ]
  },
  {
   "cell_type": "markdown",
   "id": "9dea6cf9-853c-4406-95f9-6ec6d09c003f",
   "metadata": {},
   "source": [
    "<br>\n",
    "\n",
    "std::cin is buffered because it allows us to separate the entering of input from the extract of input. We can enter input once and then perform multiple extraction requests on it.\n",
    "\n",
    "- std::cin and std::cout always go on the left-hand side of the operator.\n",
    "- std::cout is used to output a value (cout = character output).\n",
    "- std::cin is used to get an input value (cin = character input).\n",
    "- \"<<\" is used with std::cout, and shows the direction that data is moving. std::cout << 4 moves the value 4 to the console.\n",
    "- \">>\" is used with std::cin, and shows the direction that data is moving. std::cin >> x moves the value the user entered from the keyboard into variable x."
   ]
  },
  {
   "cell_type": "markdown",
   "id": "ab8193b6-f2dd-4b02-9610-eebd6cf113d5",
   "metadata": {},
   "source": [
    "<hr style=\"border: 1px solid black;\">"
   ]
  },
  {
   "cell_type": "markdown",
   "id": "65796a14-a215-40e4-811b-5be023e02d51",
   "metadata": {},
   "source": [
    "# <span style=\"border-bottom: 1px solid black; font-size: 22px;\">1.6 Uninitialized Variables and Undefined Behavior</span>"
   ]
  },
  {
   "cell_type": "markdown",
   "id": "1aa44310-d9c1-4339-840c-1cd7468f7086",
   "metadata": {},
   "source": [
    "Unlike some programming languages, C/C++ does not automatically initialize most variables to a given value (such as zero). When a variable that is not initialized is given a memory \n",
    "address to use to store data, the default value of that variable is whatever (garbage) value happens to already be in that memory address! A variable that has not been given a known \n",
    "value (through initialization or assignment) is called an uninitialized variable.\n",
    "\n",
    "- Initialized = The object is given a known value at the point of definition.\n",
    "- Assignment = The object is given a known value beyond the point of definition.\n",
    "- Uninitialized = The object has not been given a known value yet.\n",
    "\n",
    "Implementation-defined (and unspecified) behavior:"
   ]
  },
  {
   "cell_type": "code",
   "execution_count": 9,
   "id": "9f3b0380-f520-4ef8-8e4b-c01298a22b47",
   "metadata": {},
   "outputs": [
    {
     "name": "stdout",
     "output_type": "stream",
     "text": [
      "4\n"
     ]
    },
    {
     "data": {
      "text/plain": [
       "@0x7fb4cad50d20"
      ]
     },
     "execution_count": 9,
     "metadata": {},
     "output_type": "execute_result"
    }
   ],
   "source": [
    "std::cout << sizeof(int) << '\\n'; // print how many bytes of memory an int value takes"
   ]
  },
  {
   "cell_type": "markdown",
   "id": "86eff22e-480d-4994-a44a-0f1e7d7c344c",
   "metadata": {},
   "source": [
    "<div style=\"border: 1px solid #ffc107; padding: 10px; background-color: #fff3cd; border-radius: 5px; font-size: 20px;\">\n",
    "    <strong>Warning:</strong> -> On most platforms, this will produce 4, but on others it may produce 2\n",
    "</div>"
   ]
  },
  {
   "cell_type": "markdown",
   "id": "232fd030-39b6-462a-9b58-be55ceb4b04b",
   "metadata": {},
   "source": [
    "<div style=\"border: 1px solid #28a745; padding: 10px; background-color: #d4edda; border-radius: 5px; font-size: 20px;\">\n",
    "    <strong>Best Practice:</strong> <br> Avoid implementation-defined and unspecified behavior whenever possible, as they may cause your program to malfunction on other implementations.\n",
    "</div>"
   ]
  },
  {
   "cell_type": "markdown",
   "id": "43823c55-7861-42d0-9d6c-28ae5fa79c6b",
   "metadata": {},
   "source": [
    "<hr style=\"border: 1px solid black;\">"
   ]
  },
  {
   "cell_type": "markdown",
   "id": "e52ab190-16a9-4bb4-a13f-0d0f51c63365",
   "metadata": {},
   "source": [
    "# <span style=\"border-bottom: 1px solid black; font-size: 22px;\">1.7 Keywords and Naming Identifiers</span>\n",
    "\n",
    "C++ reserves a set of 92 words (as of C++23) for its own use. These words are called keywords (or reserved words), and each of these keywords has a special meaning within the C++ language.\n",
    "\n",
    "The following list can be found on [cppreference.com](https://en.cppreference.com/w/cpp/keyword)"
   ]
  },
  {
   "cell_type": "markdown",
   "id": "d7fa3911-4f5f-4a25-a72e-a72dbc2a0247",
   "metadata": {},
   "source": [
    "| A – C | D – P | R – Z |\n",
    "|-------------|-------------|-------------|\n",
    "| alignas (C++11) | decltype (C++11) (2) | reflexpr (reflection TS) |\n",
    "| alignof (C++11) | default (1) | register (3) |\n",
    "| and | delete (1) | reinterpret_cast |\n",
    "| and_eq | do | requires (C++20) |\n",
    "| asm | double | return |\n",
    "| atomic_cancel (TM TS) | dynamic_cast | short |\n",
    "| atomic_commit (TM TS) | else | signed |\n",
    "| atomic_noexcept (TM TS) | enum (1) | sizeof (1) |\n",
    "| auto (1) (3) (4) (5) | explicit | static |\n",
    "| bitand | export (1) (4) | static_assert (C++11) |\n",
    "| bitor | extern (1) | static_cast |\n",
    "| bool | false | struct (1) |\n",
    "| break | float | switch |\n",
    "| case | for (1) | synchronized (TM TS) |\n",
    "| catch | friend | template |\n",
    "| char | goto | this (5) |\n",
    "| char8_t (C++20) | if (3) (5) | thread_local (C++11) |\n",
    "| char16_t (C++11) | inline (1) (3) | throw (3) (4) |\n",
    "| char32_t (C++11) | int (1) | true |\n",
    "| class (1) | long | try |\n",
    "| compl | mutable (1) | typedef |\n",
    "| concept (C++20) | namespace | typeid |\n",
    "| const | new | typename (3) (4) |\n",
    "| consteval (C++20) (5) | noexcept (C++11) | union |\n",
    "| constexpr (C++11) (3) | not | unsigned |\n",
    "| constinit (C++20) | not_eq | using (1) (4) |\n",
    "| const_cast | nullptr (C++11) | virtual |\n",
    "| continue | operator (1) | void |\n",
    "| contract_assert (C++26) | or | volatile |\n",
    "| co_await (C++20) | or_eq | wchar_t |\n",
    "| co_return (C++20) | private (4) | while |\n",
    "| co_yield (C++20) | protected | xor |\n",
    "|  | public | xor_eq |"
   ]
  },
  {
   "cell_type": "markdown",
   "id": "14af3a0e-cb1c-4d3e-b497-24e106c23e62",
   "metadata": {},
   "source": [
    "- (1) — meaning changed or new meaning added in C++11.\n",
    "- (2) — new meaning added in C++14.\n",
    "- (3) — meaning changed or new meaning added in C++17.\n",
    "- (4) — meaning changed or new meaning added in C++20.\n",
    "- (5) — new meaning added in C++23."
   ]
  },
  {
   "cell_type": "markdown",
   "id": "d73825dd-ae36-4765-a5ae-e8c11ba0c46b",
   "metadata": {},
   "source": [
    "<hr style=\"border: 1px solid;\">"
   ]
  },
  {
   "cell_type": "markdown",
   "id": "534dccc9-c0ba-471d-b9f8-ae7296fd0164",
   "metadata": {},
   "source": [
    "- #### Identifier Naming Rules:\n",
    "\n",
    "As a reminder, the name of a variable (or function, type, or other kind of item) is called an identifier. C++ gives you a lot of flexibility to name identifiers as you wish. However, there are a few rules that must be followed when naming identifiers:\n",
    "\n",
    "- ##### The identifier can not be a keyword. Keywords are reserved.\n",
    "- ##### The identifier can only be composed of letters (lower or upper case), numbers, and the underscore character. That means the name can not contain symbols (except the underscore) nor whitespace (spaces or tabs).\n",
    "- ##### The identifier must begin with a letter (lower or upper case) or an underscore. It can not start with a number.\n",
    "- ##### C++ is case sensitive, and thus distinguishes between lower and upper case letters. nvalue is different than nValue is different than NVALUE."
   ]
  },
  {
   "cell_type": "markdown",
   "id": "cf750bbb-4363-49b1-8530-2d4471e77c43",
   "metadata": {},
   "source": [
    "<hr style=\"border: 1px solid;\">"
   ]
  },
  {
   "cell_type": "markdown",
   "id": "6e74ef56-f038-4235-9c30-08b571f07af3",
   "metadata": {},
   "source": [
    "- #### Identifier Naming Best Practices:\n",
    "\n",
    "<br>\n",
    "\n",
    "##### 1. It is conventional in C++ that variable names should begin with a lowercase letter. If the variable name is a single word or acronym, the whole thing should be written in lowercase letters."
   ]
  },
  {
   "cell_type": "code",
   "execution_count": null,
   "id": "bbec17d9-17b2-45a3-ae42-bb06502ff140",
   "metadata": {},
   "outputs": [],
   "source": [
    "int value; // conventional\n",
    "\n",
    "int Value; // unconventional (should start with lower case letter)\n",
    "int VALUE; // unconventional (should start with lower case letter and be in all lower case)\n",
    "int VaLuE; // unconventional (see your psychiatrist) ;)\n",
    "\n",
    "int my_variable_name;   // conventional (separated by underscores/snake_case)\n",
    "int my_function_name(); // conventional (separated by underscores/snake_case)\n",
    "\n",
    "int myVariableName;     // conventional (intercapped/camelCase)\n",
    "int myFunctionName();   // conventional (intercapped/camelCase)\n",
    "\n",
    "int MyVariableName;     // unconventional (should start with lower case letter)\n",
    "int MyFunctionName();   // unconventional (should start with lower case letter)\n",
    "\n",
    "int my variable name;   // invalid (whitespace not allowed)\n",
    "int my function name(); // invalid (whitespace not allowed)"
   ]
  },
  {
   "cell_type": "markdown",
   "id": "d2e05ac6-be7c-4302-be60-9cec4ea421a8",
   "metadata": {},
   "source": [
    "<br>\n",
    "\n",
    "##### 2. Avoid naming your identifiers starting with an underscore. Although syntactically legal, these names are typically reserved for OS, library, and/or compiler use"
   ]
  },
  {
   "cell_type": "markdown",
   "id": "cff4e735-3c0a-4b87-8252-a48ad04c38d4",
   "metadata": {},
   "source": [
    "<br>\n",
    "\n",
    "##### 3. The name of your identifiers should make clear what the value they are holding means (particularly if the units aren’t obvious). Identifiers should be named in a way that would help someone who has no idea what your code does be able to figure it out as quickly as possible.\n",
    "\n",
    "- An identifier that exists for only a few statements (e.g. in the body of a short function) can have a shorter name.\n",
    "- An identifier that is accessible from anywhere might benefit from a longer name.\n",
    "- An identifier that represents a non-specific number (e.g. anything the user provides) can have a shorter name.\n",
    "- An identifier that represents a specific value (e.g. the length of an inseam in millimeters) should have a longer name."
   ]
  },
  {
   "cell_type": "markdown",
   "id": "eeb73834-67b6-4dc3-a096-3d38fdf1ef7d",
   "metadata": {},
   "source": [
    "<br>\n",
    "\n",
    "##### 4. Avoid abbreviations, except when they are common and unambiguous (e.g. num, cm, idx)."
   ]
  },
  {
   "cell_type": "markdown",
   "id": "c56cdd94-a409-4a4c-91f7-2ef1e3a1b2ce",
   "metadata": {},
   "source": [
    "<br>\n",
    "\n",
    "##### 5. For variable declarations, it can be useful to use a comment to describe what a variable is going to be used for, or to explain anything else that might not be obvious. For example, say we’ve declared a variable that is supposed to store the number of characters in a piece of text. Does the text “Hello World!” have 10, 11, 12 characters? It depends on whether we’re including whitespace or punctuation. Rather than naming the variable numCharsIncludingWhitespaceAndPunctuation, which is rather lengthy, a well placed comment on or above the declaration line should help the user figure it out:"
   ]
  },
  {
   "cell_type": "code",
   "execution_count": null,
   "id": "93b857cf-7d83-4524-8192-427b59760faa",
   "metadata": {},
   "outputs": [],
   "source": [
    "// a count of the number of chars in a piece of text, including whitespace and punctuation\n",
    "int numChars {};"
   ]
  },
  {
   "cell_type": "markdown",
   "id": "c728949d-a930-43df-911a-579ad6fa5109",
   "metadata": {},
   "source": [
    "<hr style=\"border: 1px solid black;\">"
   ]
  },
  {
   "cell_type": "markdown",
   "id": "c0e64853-dc02-4743-b20f-83d4d1e04e57",
   "metadata": {},
   "source": [
    "# <span style=\"border-bottom: 1px solid black; font-size: 22px;\">1.8 Whitespace and Basic Formatting</span>\n",
    "\n",
    "Whitespace is a term that refers to characters that are used for formatting purposes. In C++, this refers primarily to spaces, tabs, and newlines. Whitespace in C++ is generally used for 3 things: separating certain language elements, inside text, and for formatting code.\n",
    "\n",
    "For example, a variable declaration or a function´s return type and name must be whitespace separated:"
   ]
  },
  {
   "cell_type": "code",
   "execution_count": null,
   "id": "02710740-8f2b-49e0-a30b-34858232b0bb",
   "metadata": {
    "scrolled": true
   },
   "outputs": [],
   "source": [
    "int x;       // int and x must be whitespace separated\n",
    "int main()   // int and main must be whitespace separated\n",
    "{\n",
    "    return 0;\n",
    "}"
   ]
  },
  {
   "cell_type": "markdown",
   "id": "de8ab3c2-0f93-4934-be67-89900cd235e1",
   "metadata": {},
   "source": [
    "<hr style=\"border: 1px solid;\">"
   ]
  },
  {
   "cell_type": "markdown",
   "id": "9def3bca-22df-4141-b04f-da5a5d5883e7",
   "metadata": {},
   "source": [
    "<br>\n",
    "Inside quoted text, the amount of whitespace is taken literally."
   ]
  },
  {
   "cell_type": "code",
   "execution_count": 10,
   "id": "d8679adf-93ff-46ff-97d4-1d491083ba91",
   "metadata": {
    "scrolled": true
   },
   "outputs": [
    {
     "name": "stdout",
     "output_type": "stream",
     "text": [
      "Hello world!\n",
      "Hello          world!"
     ]
    }
   ],
   "source": [
    "std::cout << \"Hello world!\";\n",
    "std::cout << std::endl;\n",
    "std::cout << \"Hello          world!\";"
   ]
  },
  {
   "cell_type": "markdown",
   "id": "c00fbfab-91b0-4a00-bb76-611a30eba275",
   "metadata": {},
   "source": [
    "<hr style=\"border: 1px solid;\">"
   ]
  },
  {
   "cell_type": "markdown",
   "id": "5c7e8cc6-69bb-47bb-9a78-f81bfc2e2d1e",
   "metadata": {},
   "source": [
    "<br>\n",
    "Newlines are not allowed in quoted text:"
   ]
  },
  {
   "cell_type": "code",
   "execution_count": 11,
   "id": "d9b084d6-1666-4187-a5a3-21eaf0957ef2",
   "metadata": {},
   "outputs": [
    {
     "name": "stderr",
     "output_type": "stream",
     "text": [
      "\u001b[1minput_line_25:2:15: \u001b[0m\u001b[0;1;35mwarning: \u001b[0m\u001b[1mmissing terminating '\"' character [-Winvalid-pp-token]\u001b[0m\n",
      " std::cout << \"Hello\n",
      "\u001b[0;1;32m              ^\n",
      "\u001b[0m\u001b[1minput_line_25:2:15: \u001b[0m\u001b[0;1;31merror: \u001b[0m\u001b[1mexpected expression\u001b[0m\n",
      "\u001b[1minput_line_25:3:12: \u001b[0m\u001b[0;1;35mwarning: \u001b[0m\u001b[1mmissing terminating '\"' character [-Winvalid-pp-token]\u001b[0m\n",
      "     world!\"; // Not allowed!\n",
      "\u001b[0;1;32m           ^\n",
      "\u001b[0m"
     ]
    },
    {
     "ename": "Interpreter Error",
     "evalue": "",
     "output_type": "error",
     "traceback": [
      "Interpreter Error: "
     ]
    }
   ],
   "source": [
    "std::cout << \"Hello\n",
    "     world!\"; // Not allowed!"
   ]
  },
  {
   "cell_type": "markdown",
   "id": "49ec1e17-1afb-4bbc-99b2-3680718f03e5",
   "metadata": {},
   "source": [
    "<hr style=\"border: 1px solid;\">"
   ]
  },
  {
   "cell_type": "markdown",
   "id": "d5100424-5353-459c-8bc6-919bbe3660e6",
   "metadata": {},
   "source": [
    "<br>\n",
    "Quoted text separated by nothing but whitespace (spaces, tabs, or newlines) will be concatenated:"
   ]
  },
  {
   "cell_type": "code",
   "execution_count": 12,
   "id": "898fa8e8-6c20-48cd-9e8b-7b42185470e8",
   "metadata": {},
   "outputs": [
    {
     "name": "stdout",
     "output_type": "stream",
     "text": [
      "Hello world!"
     ]
    },
    {
     "data": {
      "text/plain": [
       "@0x7fb4cad50d20"
      ]
     },
     "execution_count": 12,
     "metadata": {},
     "output_type": "execute_result"
    }
   ],
   "source": [
    "std::cout << \"Hello \"\n",
    "     \"world!\"; // prints \"Hello world!\""
   ]
  },
  {
   "cell_type": "markdown",
   "id": "ed63bdfc-aa7e-4621-a926-bdf73d0a68dc",
   "metadata": {},
   "source": [
    "<hr style=\"border: 1px solid;\">"
   ]
  },
  {
   "cell_type": "markdown",
   "id": "ef5383b1-f151-4ad3-a41d-1f1f89164dbf",
   "metadata": {},
   "source": [
    "- #### Using whitespace to format code:\n",
    "\n",
    "<br>\n",
    "\n",
    "##### Hard to read:"
   ]
  },
  {
   "cell_type": "code",
   "execution_count": null,
   "id": "be38bbbd-afbf-4da0-aa56-ff4381142bd0",
   "metadata": {},
   "outputs": [],
   "source": [
    "#include <iostream>\n",
    "int main(){std::cout<<\"Hello world\";return 0;}"
   ]
  },
  {
   "cell_type": "markdown",
   "id": "a76a5684-85c3-45cb-ae2d-04f3ee9feefb",
   "metadata": {},
   "source": [
    "<hr style=\"border: 1px solid;\">"
   ]
  },
  {
   "cell_type": "markdown",
   "id": "50c2e21b-fc3b-404f-bc89-32163559c5e3",
   "metadata": {},
   "source": [
    "##### Better:"
   ]
  },
  {
   "cell_type": "code",
   "execution_count": null,
   "id": "480216bb-0ead-4d5a-915e-2e79c8686e90",
   "metadata": {},
   "outputs": [],
   "source": [
    "#include <iostream>\n",
    "int main() {\n",
    "std::cout << \"Hello world\";\n",
    "return 0;\n",
    "}"
   ]
  },
  {
   "cell_type": "markdown",
   "id": "9b1c5119-6b48-4d77-98fb-0be86bb6bbef",
   "metadata": {},
   "source": [
    "<hr style=\"border: 1px solid;\">"
   ]
  },
  {
   "cell_type": "markdown",
   "id": "49b67b31-1f6d-4c16-888c-a5be02dceb06",
   "metadata": {},
   "source": [
    "##### Even Better:"
   ]
  },
  {
   "cell_type": "code",
   "execution_count": null,
   "id": "81a7d37b-3cc5-4640-b301-f3ad7f7ab455",
   "metadata": {},
   "outputs": [],
   "source": [
    "#include <iostream>\n",
    "\n",
    "int main()\n",
    "{\n",
    "    std::cout << \"Hello world\";\n",
    "\n",
    "    return 0;\n",
    "}"
   ]
  },
  {
   "cell_type": "markdown",
   "id": "9e811add-59b0-417c-84f1-e52a96479693",
   "metadata": {},
   "source": [
    "<div style=\"border: 1px solid #28a745; padding: 10px; background-color: #d4edda; border-radius: 5px; font-size: 20px;\">\n",
    "    <strong>Best Practice:</strong> <br> 1. Consider keeping your lines to 80 chars or less in length. <br> <br> 2. Each statement within curly braces should start one tab in from the opening brace of the function it belongs to <br> <br> 3. If a long line is split with an operator (eg. \"<<\" or +), the operator should be placed at the beginning of the next line, not the end of the current line <br> <br> 4. Use whitespace to make your code easier to read by aligning values or comments or adding spacing between blocks of code.\n",
    "</div>"
   ]
  },
  {
   "cell_type": "markdown",
   "id": "c899502a-ef65-4139-8846-e3fb68be3eea",
   "metadata": {},
   "source": [
    "<hr style=\"border: 1px solid black;\">"
   ]
  },
  {
   "cell_type": "markdown",
   "id": "691301df-a903-447c-a4c9-b2151248dd2c",
   "metadata": {},
   "source": [
    "# <span style=\"border-bottom: 1px solid black; font-size: 22px;\">1.9 Introduction to Literals and Operators</span>"
   ]
  },
  {
   "cell_type": "markdown",
   "id": "d6f99a97-5bd3-4d51-8672-948333f1b0bb",
   "metadata": {},
   "source": [
    "- #### Literals:\n",
    "\n",
    "A literal (also known as a literal constant) is a fixed value that has been inserted directly into the source code.\n",
    "\n",
    "Literals and variables both have a value (and a type). Unlike a variable (whose value can be set and changed through initialization and assignment respectively), the value of a literal is fixed and cannot be changed. The literal 5 always has value 5. This is why literals are called constants."
   ]
  },
  {
   "cell_type": "code",
   "execution_count": 13,
   "id": "00f43f08-5c37-4bba-b843-44fd2ec706ca",
   "metadata": {},
   "outputs": [
    {
     "name": "stdout",
     "output_type": "stream",
     "text": [
      "This is the literal: 5\n",
      "The value of x is: 6\n",
      "The value of the variable x changed to: 7\n"
     ]
    },
    {
     "data": {
      "text/plain": [
       "@0x7fb4cad50d20"
      ]
     },
     "execution_count": 13,
     "metadata": {},
     "output_type": "execute_result"
    }
   ],
   "source": [
    "#include <iostream>\n",
    "\n",
    "std::cout <<\"This is the literal: \" << 5 << '\\n'; // print the value of a literal\n",
    "\n",
    "int x { 6 };\n",
    "std::cout << \"The value of x is: \" << x << '\\n'; // print the value of a variable\n",
    "\n",
    "x = 7;\n",
    "std::cout << \"The value of the variable x changed to: \"<< x << '\\n'; // print the value of the changed variable"
   ]
  },
  {
   "cell_type": "markdown",
   "id": "37a03bd7-093f-4cad-bc13-c80ec7541e0a",
   "metadata": {},
   "source": [
    "<br>\n",
    "\n",
    "Both output statements do the same thing (print the value 5). But in the case of the literal, the value 5 can be printed directly. In the case of the variable, the value 5 must be fetched from the memory the variable represents.\n",
    "\n",
    "This also explains why a literal is constant while a variable can be changed. A literal’s value is placed directly in the executable, and the executable itself can’t be changed after it is created. A variable’s value is placed in memory, and the value of memory can be changed while the executable is running."
   ]
  },
  {
   "cell_type": "markdown",
   "id": "f5f1ae15-0154-4063-aff5-5b84b5750817",
   "metadata": {},
   "source": [
    "<hr style=\"border: 1px solid;\">"
   ]
  },
  {
   "cell_type": "markdown",
   "id": "2bd4eb2d-b1c9-42a5-a537-f5342495f1da",
   "metadata": {},
   "source": [
    "- #### Operators:\n",
    "\n",
    "In mathematics, an operation is a process involving zero or more input values (called operands) that produces a new value (called an output value). The specific operation to be performed is denoted by a symbol called an operator.\n",
    "\n",
    "For example, as children we all learn that 2 + 3 equals 5. In this case, the literals 2 and 3 are the operands, and the symbol + is the operator that tells us to apply mathematical addition on the operands to produce the new value 5.\n",
    "\n",
    "Standard arithmetic operators from common usage in mathematics, including addition (+), subtraction (-), multiplication (*), and division (/).\n",
    "In C++, assignment (=) is an operator as well, as are insertion (<<), extraction (>>), and equality (==).\n",
    "While most operators have symbols for names (e.g. +, or ==), there are also a number of operators that are keywords (e.g. new, delete, and throw)."
   ]
  },
  {
   "cell_type": "markdown",
   "id": "58aaad32-e6d2-4bba-b8d7-2fad7991fa9e",
   "metadata": {},
   "source": [
    "##### Lists of Common Operators:\n",
    "\n",
    "| Assignment | Increment/Decrement | Arithmetic |\n",
    "|------------|--------------------|------------|\n",
    "| a = b  | ++a  | +a |\n",
    "| a += b | --a  | -a |\n",
    "| a -= b | a++  | a + b |\n",
    "| a *= b | a--  | a - b |\n",
    "| a /= b |      | a * b |\n",
    "| a %= b |      | a / b |\n",
    "| a &= b |      | a % b |\n",
    "| a \\|= b |      | ~a |\n",
    "| a ^= b |      | a & b |\n",
    "| a <<= b |      | a | b |\n",
    "| a >>= b |      | a ^ b |\n",
    "|         |      | a << b |\n",
    "|         |      | a >> b |\n",
    "\n",
    "<hr style=\"border: 1px solid;\">\n",
    "\n",
    "| Logical | Comparison | Member Access |\n",
    "|---------|-----------|--------------|\n",
    "| !a  | a == b  | a[...] |\n",
    "| a && b | a != b  | *a |\n",
    "| a || b | a < b  | &a |\n",
    "|       | a > b  | a->b |\n",
    "|       | a <= b  | a.b |\n",
    "|       | a >= b  | a->*b |\n",
    "|       | a <=> b | a.*b |\n",
    "\n",
    "<hr style=\"border: 1px solid;\">\n",
    "\n",
    "| Function Call | Comma | Conditional |\n",
    "|--------------|-------|------------|\n",
    "| a(...)       | a, b  | a ? b : c |"
   ]
  },
  {
   "cell_type": "markdown",
   "id": "0b0c91f5-ce8d-4e08-b285-641b47ecaa40",
   "metadata": {},
   "source": [
    "<hr style=\"border: 1px solid;\">"
   ]
  },
  {
   "cell_type": "markdown",
   "id": "f2a43931-217c-4da3-a36a-63d4c4c1ea0a",
   "metadata": {},
   "source": [
    "##### List of Special Operators\n",
    "\n",
    "| Casting & Memory | Type & Exceptions |\n",
    "|------------------|------------------|\n",
    "| static_cast | sizeof |\n",
    "| dynamic_cast | typeid |\n",
    "| const_cast | noexcept |\n",
    "| reinterpret_cast | alignof |\n",
    "| C-style cast |  |\n",
    "| new |  |\n",
    "| delete |  |"
   ]
  },
  {
   "cell_type": "markdown",
   "id": "e2142c2c-2690-4f1f-8c5e-4323d6c587fd",
   "metadata": {},
   "source": [
    "<hr style=\"border: 1px solid black;\">"
   ]
  },
  {
   "cell_type": "markdown",
   "id": "5e6d0362-b54f-4d0d-a45c-5fdcf26228f8",
   "metadata": {},
   "source": [
    "# <span style=\"border-bottom: 1px solid black; font-size: 22px;\">1.10 Introduction to Expressions</span>"
   ]
  },
  {
   "cell_type": "markdown",
   "id": "0f150554-8e57-4c8f-aa36-cd39f5660fef",
   "metadata": {},
   "source": [
    "In general programming, an expression is a non-empty sequence of literals, variables, operators, and function calls that calculates a value. The process of executing an expression is called evaluation, and the resulting value produced is called the result of the expression (also sometimes called the return value).\n",
    "\n",
    "When an expression is evaluated, each of the terms inside the expression are evaluated, until a single value remains. Here are some examples of different kinds of expressions, with comments indicating how they evaluate:\n",
    "\n",
    "    2               // 2 is a literal that evaluates to value 2\n",
    "    \"Hello world!\"  // \"Hello world!\" is a literal that evaluates to text \"Hello world!\"\n",
    "    x               // x is a variable that evaluates to the value held by variable x\n",
    "    2 + 3           // operator+ uses operands 2 and 3 to evaluate to value 5\n",
    "    five()          // evaluates to the return value of function five()\n",
    "\n",
    "As you can see, literals evaluate to their own values. Variables evaluate to the value of the variable. Operators (such as operator+) use their operands to evaluate to some other value. We haven’t covered function calls yet, but in the context of an expression, function calls evaluate to whatever value the function returns.\n",
    "\n",
    "Expressions do not end in a semicolon, and cannot be compiled by themselves. For example, if you were to try compiling the expression x = 5, your compiler would complain (probably about a missing semicolon). Rather, expressions are always evaluated as part of statements.\n",
    "\n",
    "    int x{ 2 + 3 }; // 2 + 3 is an expression that has no semicolon -- the semicolon is at the end of the statement containing the expression\n",
    "\n",
    "    (type identifier { expression };)\n",
    "\n",
    "\n",
    "Certain expressions (such as x = 5) are used primarily for their side effects (in this case, to assign the value 5 to the variable x) rather than the value they produce.\n",
    "\n",
    "However, we mentioned above that expressions cannot be executed by themselves -- they must exist as part of a statement. Fortunately, it’s trivial to convert any expression into an equivalent statement. An expression statement is a statement that consists of an expression followed by a semicolon. When the expression statement is executed, the expression will be evaluated."
   ]
  },
  {
   "cell_type": "markdown",
   "id": "95cc09c7-7588-4f60-a89d-addaf62c4818",
   "metadata": {},
   "source": [
    "<hr style=\"border: 1px solid black;\">\n",
    "<hr style=\"border: 1px solid black;\">"
   ]
  },
  {
   "cell_type": "markdown",
   "id": "386f6d60-58ed-487b-b2a3-b42382ab4b2b",
   "metadata": {},
   "source": [
    "# <span style=\"border-bottom: 2px solid black; font-size: 32px;\">Chapter 1 Summary</span>"
   ]
  },
  {
   "cell_type": "markdown",
   "id": "48eccdef-20c6-48df-98f7-e7a4bee2856c",
   "metadata": {},
   "source": [
    "- A statement is a type of instruction that causes the program to perform some action. Statements are often terminated by a semicolon.\n",
    "\n",
    "- A function is a collection of statements that execute sequentially. Every C++ program must include a special function named main. When you run your program, execution starts at the top of the main function.\n",
    "\n",
    "- In programming, the name of a function (or object, type, template, etc…) is called its identifier.\n",
    "\n",
    "- The rules that govern how elements of the C++ language are constructed is called syntax. A syntax error occurs when you violate the grammatical rules of the language.\n",
    "\n",
    "- Comments allow the programmer to leave notes in the code. C++ supports two types of comments. Line comments start with a // and run to the end of the line. Block comments start with a /* and go to the paired */ symbol. Don’t nest block comments.\n",
    "You can use comments to temporarily disable lines or sections of code. This is called commenting out your code.\n",
    "\n",
    "- Data is any information that can be moved, processed, or stored by a computer. A single piece of data is called a value. Common examples of values include letters (e.g. a), numbers (e.g. 5), and text (e.g. Hello).\n",
    "\n",
    "- A variable is a named piece of memory that we can use to store values. In order to create a variable, we use a statement called a definition statement. When the program is run, each defined variable is instantiated, which means it is assigned a memory address.\n",
    "\n",
    "- A data type tells the compiler how to interpret a piece of data into a meaningful value. An integer is a number that can be written without a fractional component, such as 4, 27, 0, -2, or -12.\n",
    "\n",
    "- Copy assignment (via operator=) can be used to assign an already created variable a value.\n",
    "\n",
    "- The process of specifying an initial value for an object is called initialization, and the syntax used to initialize an object is called an initializer\n",
    "\n",
    "- Simplified, C++ supports 6 basic types of initialization:\n",
    "\n",
    "\t- Default-initialization\tint x;\tIn most cases, leaves variable with indeterminate value\n",
    "\t- Copy-initialization\tint x = 5;\n",
    "\t- Direct-initialization\tint x ( 5 );\n",
    "\t- Direct-list-initialization\tint x { 5 };\tNarrowing conversions disallowed\n",
    "\t- Copy-list-initialization\tint x = { 5 };\tNarrowing conversions disallowed\n",
    "\t- Value-initialization\tint x {};\tUsually performs zero-initialization\n",
    "\n",
    "- std::cout and operator<< allow us to output the result of an expression to the console.\n",
    "\n",
    "- std::endl outputs a newline character, forcing the console cursor to move to the next line, and flushes any pending output to the console. The '\\n' character also outputs a newline character, but lets the system decide when to flush the output. Be careful not to use '/n' (forward slash).\n",
    "\n",
    "- std::cin and operator>> allow us to get a value from the keyboard.\n",
    "\n",
    "- A variable that has not been given a value is called an uninitialized variable. Trying to get the value of an uninitialized variable will result in undefined behavior, which can manifest in any number of ways.\n",
    "\n",
    "- C++ reserves a set of names called keywords. These have special meaning within the language and may not be used as variable names.\n",
    "\n",
    "- A literal constant is a fixed value inserted directly into the source code. Examples are 5 and “Hello world!”.\n",
    "\n",
    "- An operation is a process involving zero or more input values, called operands. The specific operation to be performed is denoted by the provided operator. The result of an operation produces an output value.\n",
    "\n",
    "- Unary operators take one operand. Binary operators take two operands, often called left and right. Ternary operators take three operands. Nullary operators take zero operands.\n",
    "\n",
    "- An expression is a sequence of literals, variables, operators, and function calls that are evaluated to produce a single output value. The calculation of this output value is called evaluation. The value produced is the result of the expression.\n",
    "\n",
    "- An expression statement is an expression that has been turned into a statement by placing a semicolon at the end of the expression.\n",
    "\n",
    "- When writing programs, add a few lines or a function, compile, resolve any errors, and make sure it works. Don’t wait until you’ve written an entire program before compiling it for the first time!\n",
    "\n",
    "- Focus on getting your code working. Once you are sure you are going to keep some bit of code, then you can spend time removing (or commenting out) temporary/debugging code, adding comments, handling error cases, formatting your code, ensuring best practices are followed, removing redundant logic, etc…\n",
    "\n",
    "\t-> First-draft programs are often messy and imperfect. Most code requires cleanup and refinement to get to great!"
   ]
  }
 ],
 "metadata": {
  "kernelspec": {
   "display_name": "C++17",
   "language": "C++17",
   "name": "xcpp17"
  },
  "language_info": {
   "codemirror_mode": "text/x-c++src",
   "file_extension": ".cpp",
   "mimetype": "text/x-c++src",
   "name": "c++",
   "version": "17"
  }
 },
 "nbformat": 4,
 "nbformat_minor": 5
}
