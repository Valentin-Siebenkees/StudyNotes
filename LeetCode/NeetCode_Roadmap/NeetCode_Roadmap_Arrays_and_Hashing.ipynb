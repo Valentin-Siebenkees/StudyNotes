{
 "cells": [
  {
   "cell_type": "markdown",
   "id": "028dbf00-23b5-4c2f-ac85-255510275f44",
   "metadata": {},
   "source": [
    "# NeetCode Roadmap\n",
    "\n",
    "## 1. Arrays & Hashing\n",
    "\n",
    "### 1.1 Contains Duplicate (LeetCode 217)\n",
    "\n",
    "Problem:\n",
    "\n",
    "Given an integer array nums, return true if any value appears at least twice in the array, and return false if every element is distinct.\n",
    "\n",
    " \n",
    "\n",
    "Example 1:\n",
    "\n",
    "Input: nums = [1,2,3,1]\n",
    "\n",
    "Output: true\n",
    "\n",
    "Explanation:\n",
    "\n",
    "The element 1 occurs at the indices 0 and 3.\n",
    "\n",
    "Example 2:\n",
    "\n",
    "Input: nums = [1,2,3,4]\n",
    "\n",
    "Output: false\n",
    "\n",
    "Explanation:\n",
    "\n",
    "All elements are distinct.\n",
    "\n",
    "Example 3:\n",
    "\n",
    "Input: nums = [1,1,1,3,3,4,3,2,4,2]\n",
    "\n",
    "Output: true\n",
    "\n",
    " \n",
    "\n",
    "Constraints:\n",
    "\n",
    "1 <= nums.length <= 10^5\n",
    "\n",
    "-10^9 <= nums[i] <= 10^9\n",
    "\n",
    "#### Solution:"
   ]
  },
  {
   "cell_type": "code",
   "execution_count": null,
   "id": "52a1f980-5a61-4de2-98f9-a9263ef6fda9",
   "metadata": {},
   "outputs": [],
   "source": [
    "class Solution:\n",
    "    def containsDuplicate(self, nums: List[int]) -> bool:\n",
    "        nums_set = set(nums)\n",
    "        if len(nums) == len(nums_set):\n",
    "            return False\n",
    "        else:\n",
    "            return True"
   ]
  },
  {
   "cell_type": "markdown",
   "id": "96a6737a-8484-479a-9ba1-10f8de787369",
   "metadata": {},
   "source": [
    "#### Why it works:\n",
    "\n",
    "A Python set automatically removes duplicates.\n",
    "Therefore it is possible to compare the length of the list to the length of the set in order to check for duplicates.\n",
    "\n",
    "##### Time Complexity: O(N)\n",
    "\n",
    "---"
   ]
  },
  {
   "cell_type": "markdown",
   "id": "1b56fb78-5d72-45a0-958b-42f8e721e242",
   "metadata": {},
   "source": [
    "### 1.2 Two Sum (LeetCode 1)\n",
    "\n",
    "Problem:\n",
    "\n",
    "Given an array of integers nums and an integer target, return indices of the two numbers such that they add up to target.\n",
    "\n",
    "You may assume that each input would have exactly one solution, and you may not use the same element twice.\n",
    "\n",
    "You can return the answer in any order.\n",
    "\n",
    " \n",
    "\n",
    "Example 1:\n",
    "\n",
    "Input: nums = [2,7,11,15], target = 9\n",
    "\n",
    "Output: [0,1]\n",
    "\n",
    "Explanation: Because nums[0] + nums[1] == 9, we return [0, 1].\n",
    "\n",
    "\n",
    "Example 2:\n",
    "\n",
    "Input: nums = [3,2,4], target = 6\n",
    "\n",
    "Output: [1,2]\n",
    "\n",
    "\n",
    "Example 3:\n",
    "\n",
    "Input: nums = [3,3], target = 6\n",
    "\n",
    "Output: [0,1]\n",
    " \n",
    "\n",
    "Constraints:\n",
    "\n",
    "2 <= nums.length <= 10^4\n",
    "\n",
    "-10^9 <= nums[i] <= 10^9\n",
    "\n",
    "-10^9 <= target <= 10^9\n",
    "\n",
    "Only one valid answer exists.\n",
    "\n",
    "\n",
    "#### Solution:"
   ]
  },
  {
   "cell_type": "code",
   "execution_count": null,
   "id": "91bf121d-a23d-46ea-9788-0e899f3cf9aa",
   "metadata": {},
   "outputs": [],
   "source": [
    "class Solution:\n",
    "    def twoSum(self, nums: List[int], target: int) -> List[int]:\n",
    "        for i, num in enumerate(nums):\n",
    "            for j, num_2 in enumerate(nums):\n",
    "                if i == j:\n",
    "                    continue\n",
    "                if num + num_2 == target:\n",
    "                    return[i, j]"
   ]
  },
  {
   "cell_type": "markdown",
   "id": "b74f1879-f5d0-4ce8-b6b3-353a895f8b95",
   "metadata": {},
   "source": [
    "#### Why it works:\n",
    "\n",
    "The code has two loops to check if the summation of two numbers in the list is equal to the target.\n",
    "The condition i == j makes sure that the summation is only used with 2 different elements of the list.\n",
    "\n",
    "##### Time Complexity O(N^2): \n",
    "The nested loops mean that for every element in the outer loop, the inner loop processes all n elements.\n",
    "\n",
    "##### There is an optimized solution using a hash map (dictionary) to achieve O(n) time complexity:"
   ]
  },
  {
   "cell_type": "code",
   "execution_count": null,
   "id": "406d06c3-b2b3-4e80-94b2-263d9888669f",
   "metadata": {},
   "outputs": [],
   "source": [
    "class Solution:\n",
    "    def twoSum(self, nums: List[int], target: int) -> List[int]:\n",
    "        num_to_index = {}\n",
    "        for i, num in enumerate(nums):\n",
    "            complement = target - num\n",
    "            if complement in num_to_index:\n",
    "                return [num_to_index[complement], i]\n",
    "            num_to_index[num] = i"
   ]
  },
  {
   "cell_type": "markdown",
   "id": "a93f5518-4a76-4f14-be24-6f2a80823dc0",
   "metadata": {},
   "source": [
    "Instead of using nested loops to check every possible pair of numbers (which is inefficient), we can use a hash map (dictionary) to store numbers we’ve already seen as we iterate through the list. This allows us to check in constant time whether the required complement (target - current_number) exists in the list.\n",
    "\n",
    "---"
   ]
  },
  {
   "cell_type": "markdown",
   "id": "532613ae-a447-49d7-b0ba-1e8c3b47aa8c",
   "metadata": {},
   "source": [
    "### 1.3 Valid Anagram (LeetCode 242)\n",
    "\n",
    "Given two strings s and t, return true if t is an anagram of s, and false otherwise.\n",
    "\n",
    " \n",
    "\n",
    "Example 1:\n",
    "\n",
    "Input: s = \"anagram\", t = \"nagaram\"\n",
    "\n",
    "Output: true\n",
    "\n",
    "Example 2:\n",
    "\n",
    "Input: s = \"rat\", t = \"car\"\n",
    "\n",
    "Output: false\n",
    "\n",
    " \n",
    "\n",
    "Constraints:\n",
    "\n",
    "1 <= s.length, t.length <= 5 * 10^4\n",
    "s and t consist of lowercase English letters.\n",
    "\n",
    "##### Solution:"
   ]
  },
  {
   "cell_type": "code",
   "execution_count": null,
   "id": "6eff7256-356d-4e61-9758-94d8163c6309",
   "metadata": {},
   "outputs": [],
   "source": [
    "class Solution:\n",
    "    def isAnagram(self, s: str, t: str) -> bool:\n",
    "        return sorted(s) == sorted(t)"
   ]
  },
  {
   "cell_type": "markdown",
   "id": "96cfd690-4b4e-4dc6-afd8-6553f15dcbf4",
   "metadata": {},
   "source": [
    "##### Time Complexity:\n",
    "\n",
    "Sorting takes O(n log n) time, where n is the length of the strings.\n",
    "\n",
    "##### Again there is an optimized solution using O(n) complexity by using a hash map:"
   ]
  },
  {
   "cell_type": "code",
   "execution_count": null,
   "id": "65734a85-5da0-43b9-9eaf-3ebcd1b12fe6",
   "metadata": {},
   "outputs": [],
   "source": [
    "class Solution:\n",
    "    def isAnagram(self, s: str, t: str) -> bool:\n",
    "        if len(s) != len(t):\n",
    "            return False\n",
    "\n",
    "        char_count = {}\n",
    "    \n",
    "        # Count characters in s\n",
    "        for char in s:\n",
    "            char_count[char] = char_count.get(char, 0) + 1\n",
    "    \n",
    "        # Decrement counts for characters in t\n",
    "        for char in t:\n",
    "            if char not in char_count:\n",
    "                return False\n",
    "            char_count[char] -= 1\n",
    "    \n",
    "        # Check if all counts are zero\n",
    "        return all(count == 0 for count in char_count.values())"
   ]
  }
 ],
 "metadata": {
  "kernelspec": {
   "display_name": "Python 3 (ipykernel)",
   "language": "python",
   "name": "python3"
  },
  "language_info": {
   "codemirror_mode": {
    "name": "ipython",
    "version": 3
   },
   "file_extension": ".py",
   "mimetype": "text/x-python",
   "name": "python",
   "nbconvert_exporter": "python",
   "pygments_lexer": "ipython3",
   "version": "3.12.6"
  }
 },
 "nbformat": 4,
 "nbformat_minor": 5
}
